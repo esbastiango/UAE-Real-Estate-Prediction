{
 "cells": [
  {
   "cell_type": "markdown",
   "id": "2145274f",
   "metadata": {},
   "source": [
    "# UAE Real Estate Prediction"
   ]
  },
  {
   "cell_type": "markdown",
   "id": "532f7561",
   "metadata": {},
   "source": [
    "## About this project: <a class=\"anchor\" id=\"About this project\"></a>\n",
    "The primary objective of this project is to develop a linear regression model to accurately predict the prices of residential units in the United Arab Emirates.\n",
    "\n",
    "Specific Objectives:\n",
    "\n",
    "* Data Cleaning and Exploration: Identify and clean relevant information for analysis.\n",
    "* Graphical Analysis: Conduct precise and concise graphical analyses.\n",
    "* Correlation Identification: Determine the elements with the highest correlation to property prices.\n",
    "* Linear Regression Modeling: Develop a linear regression model and evaluate its effectiveness."
   ]
  },
  {
   "cell_type": "markdown",
   "id": "c442dbb4",
   "metadata": {},
   "source": [
    "## About the Dataset: <a class=\"anchor\" id=\"Data\"></a>\n",
    "The dataset offers a detailed overview of property listings for sale across the United Arab Emirates, encompassing major cities like Dubai, Abu Dhabi, and Al Ain. Sourced from Bayut.com, it serves as a vital resource for various professionals, including Data Scientists, Real Estate Analysts, Urban Planners, and Developers, interested in exploring market dynamics, price trends, and development patterns in the UAE.\n",
    "\n",
    "Key Features:\n",
    "\n",
    "* Price: Listing price of the property in AED.\n",
    "* Type: Specifies the property type (e.g., Apartment, Townhouse).\n",
    "* Beds: Number of bedrooms, with '0' indicating a studio flat.\n",
    "* Baths: Number of bathrooms.\n",
    "* Address: Full address providing precise location insights.\n",
    "* Furnishing: Indicates if the property is furnished or unfurnished.\n",
    "* Completion Status: Current status of the property (Ready, Off-Plan).\n",
    "* Building Name, Area Name, City: Provide contextual location details.\n",
    "* Year of Completion: Year when the property was or is expected to be completed.\n",
    "* Total Floors, Parking Spaces, Building Area: Key building features.\n",
    "* Latitude, Longitude: Geographic coordinates for refined location analysis.\n",
    "* Purpose: Intended purpose of the listing, consistently noted as 'For Sale'.\n",
    "\n",
    "\n"
   ]
  },
  {
   "cell_type": "markdown",
   "id": "77091b3c",
   "metadata": {},
   "source": [
    "## Acknowledgement: <a class=\"anchor\" id=\"Data\"></a>\n",
    "Acknowledgments go to Azhar Saleem for providing the dataset sourced from Bayut.com, the largest real estate classifieds website in the UAE. The dataset spans from December 31, 2023, to May 1, 2024. (Source: https://www.kaggle.com/datasets/azharsaleem/dubai-real-estate-sales-insights/data)"
   ]
  },
  {
   "cell_type": "markdown",
   "id": "248949aa",
   "metadata": {},
   "source": [
    "## Loading the Data\n",
    "This section entails importing the dataset from a CSV file using the Pandas library. The necessary libraries will be imported, and the first 5 rows of the dataset will be visualized.\n"
   ]
  },
  {
   "cell_type": "code",
   "execution_count": 972,
   "id": "86ed1d70",
   "metadata": {},
   "outputs": [],
   "source": [
    "import pandas as pd\n",
    "import seaborn as sns\n",
    "import matplotlib.pyplot as plt\n",
    "import numpy as np\n",
    "from sklearn import preprocessing"
   ]
  },
  {
   "cell_type": "code",
   "execution_count": 973,
   "id": "b7d6a32f",
   "metadata": {},
   "outputs": [
    {
     "data": {
      "text/html": [
       "<div>\n",
       "<style scoped>\n",
       "    .dataframe tbody tr th:only-of-type {\n",
       "        vertical-align: middle;\n",
       "    }\n",
       "\n",
       "    .dataframe tbody tr th {\n",
       "        vertical-align: top;\n",
       "    }\n",
       "\n",
       "    .dataframe thead th {\n",
       "        text-align: right;\n",
       "    }\n",
       "</style>\n",
       "<table border=\"1\" class=\"dataframe\">\n",
       "  <thead>\n",
       "    <tr style=\"text-align: right;\">\n",
       "      <th></th>\n",
       "      <th>price</th>\n",
       "      <th>price_category</th>\n",
       "      <th>type</th>\n",
       "      <th>beds</th>\n",
       "      <th>baths</th>\n",
       "      <th>address</th>\n",
       "      <th>furnishing</th>\n",
       "      <th>completion_status</th>\n",
       "      <th>post_date</th>\n",
       "      <th>average_rent</th>\n",
       "      <th>...</th>\n",
       "      <th>total_parking_spaces</th>\n",
       "      <th>total_floors</th>\n",
       "      <th>total_building_area_sqft</th>\n",
       "      <th>elevators</th>\n",
       "      <th>area_name</th>\n",
       "      <th>city</th>\n",
       "      <th>country</th>\n",
       "      <th>Latitude</th>\n",
       "      <th>Longitude</th>\n",
       "      <th>purpose</th>\n",
       "    </tr>\n",
       "  </thead>\n",
       "  <tbody>\n",
       "    <tr>\n",
       "      <th>0</th>\n",
       "      <td>1450000</td>\n",
       "      <td>Medium</td>\n",
       "      <td>Apartment</td>\n",
       "      <td>1</td>\n",
       "      <td>2</td>\n",
       "      <td>The Bay, Business Bay, Dubai</td>\n",
       "      <td>Furnished</td>\n",
       "      <td>Ready</td>\n",
       "      <td>2024-04-15</td>\n",
       "      <td>0</td>\n",
       "      <td>...</td>\n",
       "      <td>0</td>\n",
       "      <td>0</td>\n",
       "      <td>0</td>\n",
       "      <td>0</td>\n",
       "      <td>Business Bay</td>\n",
       "      <td>Dubai</td>\n",
       "      <td>UAE</td>\n",
       "      <td>25.189427</td>\n",
       "      <td>55.264819</td>\n",
       "      <td>For Sale</td>\n",
       "    </tr>\n",
       "    <tr>\n",
       "      <th>1</th>\n",
       "      <td>6600000</td>\n",
       "      <td>High</td>\n",
       "      <td>Townhouse</td>\n",
       "      <td>5</td>\n",
       "      <td>5</td>\n",
       "      <td>Brookfield, DAMAC Hills, Dubai</td>\n",
       "      <td>Unfurnished</td>\n",
       "      <td>Ready</td>\n",
       "      <td>2024-04-15</td>\n",
       "      <td>0</td>\n",
       "      <td>...</td>\n",
       "      <td>0</td>\n",
       "      <td>0</td>\n",
       "      <td>0</td>\n",
       "      <td>0</td>\n",
       "      <td>DAMAC Hills</td>\n",
       "      <td>Dubai</td>\n",
       "      <td>UAE</td>\n",
       "      <td>25.028148</td>\n",
       "      <td>55.264246</td>\n",
       "      <td>For Sale</td>\n",
       "    </tr>\n",
       "    <tr>\n",
       "      <th>2</th>\n",
       "      <td>4825000</td>\n",
       "      <td>High</td>\n",
       "      <td>Apartment</td>\n",
       "      <td>2</td>\n",
       "      <td>3</td>\n",
       "      <td>Vida Residence Downtown, Downtown Dubai, Dubai</td>\n",
       "      <td>Unfurnished</td>\n",
       "      <td>Ready</td>\n",
       "      <td>2024-04-18</td>\n",
       "      <td>288929</td>\n",
       "      <td>...</td>\n",
       "      <td>510</td>\n",
       "      <td>56</td>\n",
       "      <td>1</td>\n",
       "      <td>11</td>\n",
       "      <td>Downtown Dubai</td>\n",
       "      <td>Dubai</td>\n",
       "      <td>UAE</td>\n",
       "      <td>25.186684</td>\n",
       "      <td>55.274705</td>\n",
       "      <td>For Sale</td>\n",
       "    </tr>\n",
       "    <tr>\n",
       "      <th>3</th>\n",
       "      <td>980000</td>\n",
       "      <td>Average</td>\n",
       "      <td>Apartment</td>\n",
       "      <td>3</td>\n",
       "      <td>3</td>\n",
       "      <td>Building 39, Al Reef Downtown, Al Reef, Abu Dhabi</td>\n",
       "      <td>Unfurnished</td>\n",
       "      <td>Ready</td>\n",
       "      <td>2024-01-03</td>\n",
       "      <td>73384</td>\n",
       "      <td>...</td>\n",
       "      <td>0</td>\n",
       "      <td>0</td>\n",
       "      <td>0</td>\n",
       "      <td>0</td>\n",
       "      <td>Al Reef</td>\n",
       "      <td>Abu Dhabi</td>\n",
       "      <td>UAE</td>\n",
       "      <td>24.466437</td>\n",
       "      <td>54.656891</td>\n",
       "      <td>For Sale</td>\n",
       "    </tr>\n",
       "    <tr>\n",
       "      <th>4</th>\n",
       "      <td>2499999</td>\n",
       "      <td>Medium</td>\n",
       "      <td>Townhouse</td>\n",
       "      <td>3</td>\n",
       "      <td>4</td>\n",
       "      <td>Nima, The Valley, Dubai</td>\n",
       "      <td>Furnished</td>\n",
       "      <td>Off-Plan</td>\n",
       "      <td>2024-02-28</td>\n",
       "      <td>0</td>\n",
       "      <td>...</td>\n",
       "      <td>0</td>\n",
       "      <td>0</td>\n",
       "      <td>0</td>\n",
       "      <td>0</td>\n",
       "      <td>The Valley</td>\n",
       "      <td>Dubai</td>\n",
       "      <td>UAE</td>\n",
       "      <td>25.019221</td>\n",
       "      <td>55.447201</td>\n",
       "      <td>For Sale</td>\n",
       "    </tr>\n",
       "  </tbody>\n",
       "</table>\n",
       "<p>5 rows × 22 columns</p>\n",
       "</div>"
      ],
      "text/plain": [
       "     price price_category       type  beds  baths  \\\n",
       "0  1450000         Medium  Apartment     1      2   \n",
       "1  6600000           High  Townhouse     5      5   \n",
       "2  4825000           High  Apartment     2      3   \n",
       "3   980000        Average  Apartment     3      3   \n",
       "4  2499999         Medium  Townhouse     3      4   \n",
       "\n",
       "                                             address   furnishing  \\\n",
       "0                       The Bay, Business Bay, Dubai    Furnished   \n",
       "1                     Brookfield, DAMAC Hills, Dubai  Unfurnished   \n",
       "2     Vida Residence Downtown, Downtown Dubai, Dubai  Unfurnished   \n",
       "3  Building 39, Al Reef Downtown, Al Reef, Abu Dhabi  Unfurnished   \n",
       "4                            Nima, The Valley, Dubai    Furnished   \n",
       "\n",
       "  completion_status   post_date  average_rent  ... total_parking_spaces  \\\n",
       "0             Ready  2024-04-15             0  ...                    0   \n",
       "1             Ready  2024-04-15             0  ...                    0   \n",
       "2             Ready  2024-04-18        288929  ...                  510   \n",
       "3             Ready  2024-01-03         73384  ...                    0   \n",
       "4          Off-Plan  2024-02-28             0  ...                    0   \n",
       "\n",
       "   total_floors  total_building_area_sqft  elevators       area_name  \\\n",
       "0             0                         0          0    Business Bay   \n",
       "1             0                         0          0     DAMAC Hills   \n",
       "2            56                         1         11  Downtown Dubai   \n",
       "3             0                         0          0         Al Reef   \n",
       "4             0                         0          0      The Valley   \n",
       "\n",
       "        city country   Latitude  Longitude   purpose  \n",
       "0      Dubai     UAE  25.189427  55.264819  For Sale  \n",
       "1      Dubai     UAE  25.028148  55.264246  For Sale  \n",
       "2      Dubai     UAE  25.186684  55.274705  For Sale  \n",
       "3  Abu Dhabi     UAE  24.466437  54.656891  For Sale  \n",
       "4      Dubai     UAE  25.019221  55.447201  For Sale  \n",
       "\n",
       "[5 rows x 22 columns]"
      ]
     },
     "execution_count": 973,
     "metadata": {},
     "output_type": "execute_result"
    }
   ],
   "source": [
    "UAE_RealEstate = pd.read_csv(\"bayut_selling_properties.csv\")\n",
    "UAE_RealEstate.head()\n"
   ]
  },
  {
   "cell_type": "markdown",
   "id": "882b417d",
   "metadata": {},
   "source": [
    "## Data Information\n"
   ]
  },
  {
   "cell_type": "markdown",
   "id": "ba43d61b",
   "metadata": {},
   "source": [
    "The dataset contains 41,381 entries with 22 columns. Key features include property price, type, number of bedrooms and bathrooms, location details, furnishing status, completion status, and building specifications. The dataset shows no missing values except for latitude and longitude, and it comprises a variety of data types including integers, floats, and objects."
   ]
  },
  {
   "cell_type": "code",
   "execution_count": 974,
   "id": "25800066",
   "metadata": {},
   "outputs": [
    {
     "data": {
      "text/plain": [
       "(41381, 22)"
      ]
     },
     "execution_count": 974,
     "metadata": {},
     "output_type": "execute_result"
    }
   ],
   "source": [
    "UAE_RealEstate.shape"
   ]
  },
  {
   "cell_type": "code",
   "execution_count": 975,
   "id": "72a31dbf",
   "metadata": {},
   "outputs": [
    {
     "data": {
      "text/plain": [
       "Index(['price', 'price_category', 'type', 'beds', 'baths', 'address',\n",
       "       'furnishing', 'completion_status', 'post_date', 'average_rent',\n",
       "       'building_name', 'year_of_completion', 'total_parking_spaces',\n",
       "       'total_floors', 'total_building_area_sqft', 'elevators', 'area_name',\n",
       "       'city', 'country', 'Latitude', 'Longitude', 'purpose'],\n",
       "      dtype='object')"
      ]
     },
     "execution_count": 975,
     "metadata": {},
     "output_type": "execute_result"
    }
   ],
   "source": [
    "UAE_RealEstate.columns"
   ]
  },
  {
   "cell_type": "code",
   "execution_count": 976,
   "id": "dcad6685",
   "metadata": {},
   "outputs": [
    {
     "name": "stdout",
     "output_type": "stream",
     "text": [
      "<class 'pandas.core.frame.DataFrame'>\n",
      "RangeIndex: 41381 entries, 0 to 41380\n",
      "Data columns (total 22 columns):\n",
      " #   Column                    Non-Null Count  Dtype  \n",
      "---  ------                    --------------  -----  \n",
      " 0   price                     41381 non-null  int64  \n",
      " 1   price_category            41381 non-null  object \n",
      " 2   type                      41381 non-null  object \n",
      " 3   beds                      41381 non-null  int64  \n",
      " 4   baths                     41381 non-null  int64  \n",
      " 5   address                   41381 non-null  object \n",
      " 6   furnishing                41381 non-null  object \n",
      " 7   completion_status         41381 non-null  object \n",
      " 8   post_date                 41381 non-null  object \n",
      " 9   average_rent              41381 non-null  int64  \n",
      " 10  building_name             41381 non-null  object \n",
      " 11  year_of_completion        41381 non-null  int64  \n",
      " 12  total_parking_spaces      41381 non-null  int64  \n",
      " 13  total_floors              41381 non-null  int64  \n",
      " 14  total_building_area_sqft  41381 non-null  int64  \n",
      " 15  elevators                 41381 non-null  int64  \n",
      " 16  area_name                 41381 non-null  object \n",
      " 17  city                      41381 non-null  object \n",
      " 18  country                   41381 non-null  object \n",
      " 19  Latitude                  41363 non-null  float64\n",
      " 20  Longitude                 41363 non-null  float64\n",
      " 21  purpose                   41381 non-null  object \n",
      "dtypes: float64(2), int64(9), object(11)\n",
      "memory usage: 6.9+ MB\n"
     ]
    }
   ],
   "source": [
    "UAE_RealEstate.info()"
   ]
  },
  {
   "cell_type": "code",
   "execution_count": 977,
   "id": "e1a15fb1",
   "metadata": {},
   "outputs": [
    {
     "name": "stdout",
     "output_type": "stream",
     "text": [
      "              price          beds         baths  average_rent  \\\n",
      "count  4.138100e+04  41381.000000  41381.000000  4.138100e+04   \n",
      "mean   3.788624e+06      2.190957      3.007540  9.292880e+04   \n",
      "std    8.482870e+06      1.567855      1.785553  2.503703e+05   \n",
      "min    0.000000e+00      0.000000      0.000000  0.000000e+00   \n",
      "25%    1.100000e+06      1.000000      2.000000  0.000000e+00   \n",
      "50%    2.000000e+06      2.000000      3.000000  0.000000e+00   \n",
      "75%    3.600000e+06      3.000000      4.000000  1.243790e+05   \n",
      "max    4.825000e+08     11.000000     11.000000  2.807952e+07   \n",
      "\n",
      "       year_of_completion  total_parking_spaces  total_floors  \\\n",
      "count        41381.000000          41381.000000  41381.000000   \n",
      "mean           681.112491            172.559073     13.212126   \n",
      "std            953.886883            353.899074     20.298365   \n",
      "min              0.000000              0.000000      0.000000   \n",
      "25%              0.000000              0.000000      0.000000   \n",
      "50%              0.000000              0.000000      0.000000   \n",
      "75%           2012.000000            198.000000     22.000000   \n",
      "max           2024.000000           2929.000000     89.000000   \n",
      "\n",
      "       total_building_area_sqft     elevators      Latitude     Longitude  \n",
      "count              41381.000000  41381.000000  41363.000000  41363.000000  \n",
      "mean                 142.931273      2.304463     25.037851     55.158407  \n",
      "std                  248.719849      4.440953      0.437348      0.513871  \n",
      "min                    0.000000      0.000000     15.175847     43.351928  \n",
      "25%                    0.000000      0.000000     25.026710     55.135252  \n",
      "50%                    0.000000      0.000000     25.078641     55.245999  \n",
      "75%                  211.000000      4.000000     25.189427     55.307913  \n",
      "max                  997.000000     42.000000     25.797689     56.361294  \n"
     ]
    }
   ],
   "source": [
    "print(UAE_RealEstate.describe())"
   ]
  },
  {
   "cell_type": "markdown",
   "id": "37d0a971",
   "metadata": {},
   "source": [
    "## Data Cleaning"
   ]
  },
  {
   "cell_type": "markdown",
   "id": "fbff15a0",
   "metadata": {},
   "source": [
    "In this section, I identified minimal null values, indicating robust data quality. Additionally, we performed an analysis of cells containing zero, deemed inconsistent data, particularly in columns such as bedrooms, bathrooms, and number of floors. Outliers were identified through boxplots, revealing outliers in area and price."
   ]
  },
  {
   "cell_type": "code",
   "execution_count": 978,
   "id": "7cb282f4",
   "metadata": {},
   "outputs": [
    {
     "name": "stdout",
     "output_type": "stream",
     "text": [
      "     price price_category       type  beds  baths   furnishing  \\\n",
      "0  1450000         Medium  Apartment     1      2    Furnished   \n",
      "1  6600000           High  Townhouse     5      5  Unfurnished   \n",
      "2  4825000           High  Apartment     2      3  Unfurnished   \n",
      "3   980000        Average  Apartment     3      3  Unfurnished   \n",
      "4  2499999         Medium  Townhouse     3      4    Furnished   \n",
      "\n",
      "  completion_status  total_parking_spaces  total_floors  \\\n",
      "0             Ready                     0             0   \n",
      "1             Ready                     0             0   \n",
      "2             Ready                   510            56   \n",
      "3             Ready                     0             0   \n",
      "4          Off-Plan                     0             0   \n",
      "\n",
      "   total_building_area_sqft  elevators       city   Latitude  Longitude  \n",
      "0                         0          0      Dubai  25.189427  55.264819  \n",
      "1                         0          0      Dubai  25.028148  55.264246  \n",
      "2                         1         11      Dubai  25.186684  55.274705  \n",
      "3                         0          0  Abu Dhabi  24.466437  54.656891  \n",
      "4                         0          0      Dubai  25.019221  55.447201  \n"
     ]
    }
   ],
   "source": [
    "#Dropping columns that are not part of the analysis\n",
    "# List of columns to drop\n",
    "columns_to_drop = ['address', 'average_rent', 'building_name' , 'area_name', 'country', 'purpose','post_date','average_rent','year_of_completion']\n",
    "# Drop the columns\n",
    "UAE_RealEstate = UAE_RealEstate.drop(columns=columns_to_drop)\n",
    "\n",
    "# Drop rows with null values in any column\n",
    "UAE_RealEstate = UAE_RealEstate.dropna()\n",
    "\n",
    "print(UAE_RealEstate.head())"
   ]
  },
  {
   "cell_type": "code",
   "execution_count": 979,
   "id": "8fbd6e7d",
   "metadata": {},
   "outputs": [
    {
     "data": {
      "text/plain": [
       "price                       0\n",
       "price_category              0\n",
       "type                        0\n",
       "beds                        0\n",
       "baths                       0\n",
       "furnishing                  0\n",
       "completion_status           0\n",
       "total_parking_spaces        0\n",
       "total_floors                0\n",
       "total_building_area_sqft    0\n",
       "elevators                   0\n",
       "city                        0\n",
       "Latitude                    0\n",
       "Longitude                   0\n",
       "dtype: int64"
      ]
     },
     "execution_count": 979,
     "metadata": {},
     "output_type": "execute_result"
    }
   ],
   "source": [
    "# see what columns have missing data\n",
    "UAE_RealEstate.isnull().sum().sort_values(ascending=False)"
   ]
  },
  {
   "cell_type": "code",
   "execution_count": 980,
   "id": "dd7daa52",
   "metadata": {},
   "outputs": [
    {
     "data": {
      "text/plain": [
       "price                       0.0\n",
       "price_category              0.0\n",
       "type                        0.0\n",
       "beds                        0.0\n",
       "baths                       0.0\n",
       "furnishing                  0.0\n",
       "completion_status           0.0\n",
       "total_parking_spaces        0.0\n",
       "total_floors                0.0\n",
       "total_building_area_sqft    0.0\n",
       "elevators                   0.0\n",
       "city                        0.0\n",
       "Latitude                    0.0\n",
       "Longitude                   0.0\n",
       "dtype: float64"
      ]
     },
     "execution_count": 980,
     "metadata": {},
     "output_type": "execute_result"
    }
   ],
   "source": [
    "# see are the missing value by Percentage\n",
    "missing_percentage = UAE_RealEstate.isnull().sum().sort_values(ascending=False)/len(UAE_RealEstate)*100\n",
    "missing_percentage"
   ]
  },
  {
   "cell_type": "code",
   "execution_count": 981,
   "id": "88b44d71",
   "metadata": {},
   "outputs": [
    {
     "data": {
      "text/plain": [
       "7353"
      ]
     },
     "execution_count": 981,
     "metadata": {},
     "output_type": "execute_result"
    }
   ],
   "source": [
    "# see the duplicated rows\n",
    "UAE_RealEstate.duplicated().sum()\n"
   ]
  },
  {
   "cell_type": "code",
   "execution_count": 982,
   "id": "a4584715",
   "metadata": {},
   "outputs": [
    {
     "name": "stdout",
     "output_type": "stream",
     "text": [
      "Counting zeros in each numeric column:\n",
      " price                          16\n",
      "beds                         4626\n",
      "baths                         130\n",
      "total_parking_spaces        28348\n",
      "total_floors                23474\n",
      "total_building_area_sqft    23591\n",
      "elevators                   28271\n",
      "Latitude                        0\n",
      "Longitude                       0\n",
      "dtype: int64\n"
     ]
    }
   ],
   "source": [
    "# Showing the Rows with Zeros\n",
    "# Selecting the numeric Columns\n",
    "numeric_columns = UAE_RealEstate.select_dtypes(include=['int64', 'float64'])\n",
    "\n",
    "# Count Zeros in each column\n",
    "zeros_count = (numeric_columns == 0).sum()\n",
    "\n",
    "\n",
    "print(\"Counting zeros in each numeric column:\\n\",zeros_count)"
   ]
  },
  {
   "cell_type": "code",
   "execution_count": 983,
   "id": "47bdf168",
   "metadata": {},
   "outputs": [
    {
     "name": "stdout",
     "output_type": "stream",
     "text": [
      "(17772, 14)\n",
      "<class 'pandas.core.frame.DataFrame'>\n",
      "Index: 17772 entries, 2 to 41380\n",
      "Data columns (total 14 columns):\n",
      " #   Column                    Non-Null Count  Dtype  \n",
      "---  ------                    --------------  -----  \n",
      " 0   price                     17772 non-null  int64  \n",
      " 1   price_category            17772 non-null  object \n",
      " 2   type                      17772 non-null  object \n",
      " 3   beds                      17772 non-null  int64  \n",
      " 4   baths                     17772 non-null  int64  \n",
      " 5   furnishing                17772 non-null  object \n",
      " 6   completion_status         17772 non-null  object \n",
      " 7   total_parking_spaces      17772 non-null  int64  \n",
      " 8   total_floors              17772 non-null  int64  \n",
      " 9   total_building_area_sqft  17772 non-null  int64  \n",
      " 10  elevators                 17772 non-null  int64  \n",
      " 11  city                      17772 non-null  object \n",
      " 12  Latitude                  17772 non-null  float64\n",
      " 13  Longitude                 17772 non-null  float64\n",
      "dtypes: float64(2), int64(7), object(5)\n",
      "memory usage: 2.0+ MB\n",
      "None\n"
     ]
    }
   ],
   "source": [
    "# Remove all rows containing zeros in the specified columns\n",
    "UAE_RealEstate = UAE_RealEstate[(UAE_RealEstate[['baths', 'total_floors', 'total_building_area_sqft']] != 0).all(axis=1)]\n",
    "\n",
    "# Show the new size of the DataFrame after removing rows\n",
    "print(UAE_RealEstate.shape)\n",
    "print(UAE_RealEstate.info())"
   ]
  },
  {
   "cell_type": "code",
   "execution_count": 984,
   "id": "d1c80f71",
   "metadata": {},
   "outputs": [
    {
     "data": {
      "image/png": "[encoded data removed]",
      "text/plain": [
       "<Figure size 1500x500 with 5 Axes>"
      ]
     },
     "metadata": {},
     "output_type": "display_data"
    }
   ],
   "source": [
    "#Define Outliers\n",
    "# Specify the columns you want to plot\n",
    "columns_to_plot = ['price', 'beds', 'baths', 'total_building_area_sqft', 'total_floors']\n",
    "\n",
    "# Create subplots for the boxplots\n",
    "fig, axes = plt.subplots(nrows=1, ncols=len(columns_to_plot), figsize=(15, 5))\n",
    "\n",
    "# Iterate over the columns and plot the boxplots\n",
    "for i, col in enumerate(columns_to_plot):\n",
    "    sns.boxplot(y=UAE_RealEstate[col], ax=axes[i])\n",
    "    axes[i].set_title(col)\n",
    "\n",
    "# Adjust layout and show the plots\n",
    "plt.tight_layout()\n",
    "plt.show()"
   ]
  },
  {
   "cell_type": "code",
   "execution_count": 985,
   "id": "02c30d28",
   "metadata": {},
   "outputs": [
    {
     "name": "stdout",
     "output_type": "stream",
     "text": [
      "         price price_category       type  beds  baths   furnishing  \\\n",
      "2      4825000           High  Apartment     2      3  Unfurnished   \n",
      "11     3850000           High  Apartment     2      2  Unfurnished   \n",
      "19     2190000         Medium  Apartment     1      1  Unfurnished   \n",
      "21      619900        Average  Apartment     0      1    Furnished   \n",
      "33      610000        Average  Apartment     0      1  Unfurnished   \n",
      "...        ...            ...        ...   ...    ...          ...   \n",
      "41325  2900000         Medium  Apartment     1      2  Unfurnished   \n",
      "41331   950000        Average  Apartment     1      2  Unfurnished   \n",
      "41345  3650000           High  Apartment     1      1  Unfurnished   \n",
      "41368  2755000         Medium  Apartment     0      1    Furnished   \n",
      "41373  1280000        Average  Apartment     1      1  Unfurnished   \n",
      "\n",
      "      completion_status  total_parking_spaces  total_floors  \\\n",
      "2                 Ready                   510            56   \n",
      "11             Off-Plan                   640            72   \n",
      "19             Off-Plan                  1383            76   \n",
      "21             Off-Plan                  2929            30   \n",
      "33             Off-Plan                  2929            30   \n",
      "...                 ...                   ...           ...   \n",
      "41325          Off-Plan                   567            54   \n",
      "41331          Off-Plan                   847            35   \n",
      "41345          Off-Plan                   784            54   \n",
      "41368          Off-Plan                   326             1   \n",
      "41373          Off-Plan                  1483            59   \n",
      "\n",
      "       total_building_area_sqft  elevators   city   Latitude  Longitude  \n",
      "2                             1         11  Dubai  25.186684  55.274705  \n",
      "11                            1         19  Dubai  25.078641  55.135252  \n",
      "19                            1          9  Dubai  25.189427  55.264819  \n",
      "21                            1         27  Dubai  25.069063  55.141166  \n",
      "33                            1         27  Dubai  25.069063  55.141166  \n",
      "...                         ...        ...    ...        ...        ...  \n",
      "41325                         1          7  Dubai  25.189427  55.264819  \n",
      "41331                         1         10  Dubai  25.055945  55.207465  \n",
      "41345                         1          6  Dubai  25.095619  55.138001  \n",
      "41368                         1         19  Dubai  25.078641  55.135252  \n",
      "41373                         1          9  Dubai  25.177246  55.307913  \n",
      "\n",
      "[3689 rows x 14 columns]\n"
     ]
    }
   ],
   "source": [
    "#Apartments with an area less than 100 sqft are considered outliers. \n",
    "outliers_area = UAE_RealEstate[UAE_RealEstate['total_building_area_sqft'] < 40]\n",
    "\n",
    "print(outliers_area)"
   ]
  },
  {
   "cell_type": "code",
   "execution_count": 986,
   "id": "b6f34dcb",
   "metadata": {},
   "outputs": [
    {
     "data": {
      "text/plain": [
       "(14083, 14)"
      ]
     },
     "execution_count": 986,
     "metadata": {},
     "output_type": "execute_result"
    }
   ],
   "source": [
    "#Dropping Outliers\n",
    "UAE_RealEstate = UAE_RealEstate.drop(outliers_area.index)\n",
    "UAE_RealEstate.shape"
   ]
  },
  {
   "cell_type": "code",
   "execution_count": 987,
   "id": "b73f3f6a",
   "metadata": {},
   "outputs": [
    {
     "name": "stdout",
     "output_type": "stream",
     "text": [
      "        price price_category       type  beds  baths   furnishing  \\\n",
      "5112   325000        Average  Apartment     0      1  Unfurnished   \n",
      "5684   315000        Average  Apartment     0      1  Unfurnished   \n",
      "5927   279999        Average  Apartment     0      1    Furnished   \n",
      "6170   330000        Average  Apartment     0      1  Unfurnished   \n",
      "17327  320000        Average  Apartment     0      1  Unfurnished   \n",
      "17704       0        Average  Apartment     2      3    Furnished   \n",
      "17917  295000        Average  Apartment     0      1  Unfurnished   \n",
      "18828  330000        Average  Apartment     0      1  Unfurnished   \n",
      "19928  330000        Average  Apartment     0      1  Unfurnished   \n",
      "19942  315000        Average  Apartment     0      1  Unfurnished   \n",
      "20538  325000        Average  Apartment     0      1  Unfurnished   \n",
      "21104  325000        Average  Apartment     0      1  Unfurnished   \n",
      "21214  289999        Average  Apartment     0      1  Unfurnished   \n",
      "22025       0        Average  Apartment     2      3  Unfurnished   \n",
      "23563       0        Average  Penthouse     4      5  Unfurnished   \n",
      "24212  250000        Average  Apartment     0      1    Furnished   \n",
      "24829  330000        Average  Apartment     0      1  Unfurnished   \n",
      "27162  300000        Average  Apartment     0      1  Unfurnished   \n",
      "27192  345000        Average  Apartment     0      1  Unfurnished   \n",
      "27337       0        Average  Apartment     2      3    Furnished   \n",
      "30187  344999        Average  Apartment     0      1  Unfurnished   \n",
      "31275       0        Average  Apartment     1      1  Unfurnished   \n",
      "37046  349999        Average  Apartment     0      1  Unfurnished   \n",
      "37180       0        Average  Apartment     2      3    Furnished   \n",
      "38077  295000        Average  Apartment     0      1  Unfurnished   \n",
      "39313  300000        Average  Apartment     0      1  Unfurnished   \n",
      "\n",
      "      completion_status  total_parking_spaces  total_floors  \\\n",
      "5112              Ready                     0            22   \n",
      "5684              Ready                     0            23   \n",
      "5927              Ready                     0             9   \n",
      "6170              Ready                     0            23   \n",
      "17327             Ready                     0            23   \n",
      "17704             Ready                     0             6   \n",
      "17917             Ready                     0             5   \n",
      "18828             Ready                     0            22   \n",
      "19928             Ready                     0             4   \n",
      "19942             Ready                     0            23   \n",
      "20538             Ready                     0            22   \n",
      "21104             Ready                     0            23   \n",
      "21214             Ready                     0             5   \n",
      "22025             Ready                   256            13   \n",
      "23563             Ready                     0            11   \n",
      "24212             Ready                     0             9   \n",
      "24829             Ready                     0            22   \n",
      "27162             Ready                     0             4   \n",
      "27192             Ready                     0            23   \n",
      "27337             Ready                  1010            31   \n",
      "30187             Ready                     0            23   \n",
      "31275             Ready                     0            16   \n",
      "37046             Ready                     0             6   \n",
      "37180             Ready                   238            11   \n",
      "38077             Ready                     0             4   \n",
      "39313             Ready                     0             4   \n",
      "\n",
      "       total_building_area_sqft  elevators   city   Latitude  Longitude  \n",
      "5112                        223          0  Dubai  25.030780  55.188226  \n",
      "5684                        233          0  Dubai  25.030780  55.188226  \n",
      "5927                        161          0  Dubai  25.062755  55.239298  \n",
      "6170                        425          0  Dubai  25.093094  55.380326  \n",
      "17327                       226          0  Dubai  25.030780  55.188226  \n",
      "17704                       220          0  Dubai  25.118088  55.134201  \n",
      "17917                        60          0  Dubai  25.132274  55.398140  \n",
      "18828                       223          0  Dubai  25.030780  55.188226  \n",
      "19928                        77          0  Dubai  25.132274  55.398140  \n",
      "19942                       233          0  Dubai  25.030780  55.188226  \n",
      "20538                       223          0  Dubai  25.030780  55.188226  \n",
      "21104                       233          0  Dubai  25.030780  55.188226  \n",
      "21214                        71          0  Dubai  25.132274  55.398140  \n",
      "22025                       533         28  Dubai  25.100190  55.118535  \n",
      "23563                       245          0  Dubai  25.118088  55.134201  \n",
      "24212                       161          0  Dubai  25.062755  55.239298  \n",
      "24829                       223          0  Dubai  25.030780  55.188226  \n",
      "27162                        45          0  Dubai  25.132274  55.398140  \n",
      "27192                       233          0  Dubai  25.030780  55.188226  \n",
      "27337                       728          6  Dubai  25.235590  55.296720  \n",
      "30187                       233          0  Dubai  25.030780  55.188226  \n",
      "31275                       275          0  Dubai  25.100190  55.118535  \n",
      "37046                       280          0  Dubai  24.983282  55.179132  \n",
      "37180                       549          8  Dubai  25.118088  55.134201  \n",
      "38077                        54          0  Dubai  25.132274  55.398140  \n",
      "39313                        63          0  Dubai  25.132274  55.398140  \n"
     ]
    }
   ],
   "source": [
    "#Apartments with a price less than 350.000 AED are considered outliers. \n",
    "outliers_price = UAE_RealEstate[UAE_RealEstate['price'] < 350000]\n",
    "\n",
    "print(outliers_price)"
   ]
  },
  {
   "cell_type": "code",
   "execution_count": 988,
   "id": "741d321f",
   "metadata": {},
   "outputs": [
    {
     "data": {
      "text/plain": [
       "(14057, 14)"
      ]
     },
     "execution_count": 988,
     "metadata": {},
     "output_type": "execute_result"
    }
   ],
   "source": [
    "#Dropping Outliers\n",
    "UAE_RealEstate = UAE_RealEstate.drop(outliers_price.index)\n",
    "UAE_RealEstate.shape"
   ]
  },
  {
   "cell_type": "code",
   "execution_count": 989,
   "id": "6a34a61b",
   "metadata": {},
   "outputs": [
    {
     "name": "stdout",
     "output_type": "stream",
     "text": [
      "          price price_category       type  beds  baths   furnishing  \\\n",
      "24     11000000           High  Apartment     4      4  Unfurnished   \n",
      "90     13500000           High  Apartment     4      6  Unfurnished   \n",
      "102    10500000           High  Apartment     4      5    Furnished   \n",
      "110    88000000           High  Apartment     5      6  Unfurnished   \n",
      "137     9500000           High  Apartment     2      2  Unfurnished   \n",
      "...         ...            ...        ...   ...    ...          ...   \n",
      "41293   9000000           High  Apartment     2      3  Unfurnished   \n",
      "41326   7200000           High  Apartment     2      4  Unfurnished   \n",
      "41350   7500000           High  Apartment     2      3  Unfurnished   \n",
      "41365  13500000           High  Apartment     3      3  Unfurnished   \n",
      "41376   7100000           High  Apartment     2      2  Unfurnished   \n",
      "\n",
      "      completion_status  total_parking_spaces  total_floors  \\\n",
      "24             Off-Plan                   694            45   \n",
      "90             Off-Plan                   173             6   \n",
      "102            Off-Plan                   342            61   \n",
      "110            Off-Plan                   342            61   \n",
      "137            Off-Plan                   625            19   \n",
      "...                 ...                   ...           ...   \n",
      "41293          Off-Plan                   224             9   \n",
      "41326          Off-Plan                   397            44   \n",
      "41350          Off-Plan                   784            35   \n",
      "41365          Off-Plan                   625            22   \n",
      "41376          Off-Plan                   625            19   \n",
      "\n",
      "       total_building_area_sqft  elevators   city   Latitude  Longitude  \n",
      "24                          786          7  Dubai  25.095619  55.138001  \n",
      "90                          279          4  Dubai  25.195933  55.255737  \n",
      "102                         892          5  Dubai  25.186684  55.274705  \n",
      "110                         892          5  Dubai  25.186684  55.274705  \n",
      "137                         384          6  Dubai  25.118088  55.134201  \n",
      "...                         ...        ...    ...        ...        ...  \n",
      "41293                       447          6  Dubai  25.118088  55.134201  \n",
      "41326                       837          7  Dubai  25.082916  55.122156  \n",
      "41350                       610          5  Dubai  25.095619  55.138001  \n",
      "41365                       503          4  Dubai  25.118088  55.134201  \n",
      "41376                       384          6  Dubai  25.118088  55.134201  \n",
      "\n",
      "[616 rows x 14 columns]\n"
     ]
    }
   ],
   "source": [
    "#Apartments with a price more than 30.000.000 AED are considered outliers. \n",
    "outliers_priceM = UAE_RealEstate[UAE_RealEstate['price'] > 7000000]\n",
    "\n",
    "print(outliers_priceM)"
   ]
  },
  {
   "cell_type": "code",
   "execution_count": 990,
   "id": "231949d7",
   "metadata": {},
   "outputs": [],
   "source": [
    "#Dropping Outliers\n",
    "UAE_RealEstate = UAE_RealEstate.drop(outliers_priceM.index)\n"
   ]
  },
  {
   "cell_type": "code",
   "execution_count": 991,
   "id": "48b195cb",
   "metadata": {},
   "outputs": [
    {
     "data": {
      "text/plain": [
       "(13441, 14)"
      ]
     },
     "execution_count": 991,
     "metadata": {},
     "output_type": "execute_result"
    }
   ],
   "source": [
    "UAE_RealEstate.shape"
   ]
  },
  {
   "cell_type": "code",
   "execution_count": 992,
   "id": "76a22d69",
   "metadata": {},
   "outputs": [
    {
     "data": {
      "text/html": [
       "<div>\n",
       "<style scoped>\n",
       "    .dataframe tbody tr th:only-of-type {\n",
       "        vertical-align: middle;\n",
       "    }\n",
       "\n",
       "    .dataframe tbody tr th {\n",
       "        vertical-align: top;\n",
       "    }\n",
       "\n",
       "    .dataframe thead th {\n",
       "        text-align: right;\n",
       "    }\n",
       "</style>\n",
       "<table border=\"1\" class=\"dataframe\">\n",
       "  <thead>\n",
       "    <tr style=\"text-align: right;\">\n",
       "      <th></th>\n",
       "      <th>price</th>\n",
       "      <th>price_category</th>\n",
       "      <th>type</th>\n",
       "      <th>beds</th>\n",
       "      <th>baths</th>\n",
       "      <th>furnishing</th>\n",
       "      <th>completion_status</th>\n",
       "      <th>total_parking_spaces</th>\n",
       "      <th>total_floors</th>\n",
       "      <th>total_building_area_sqft</th>\n",
       "      <th>elevators</th>\n",
       "      <th>city</th>\n",
       "      <th>Latitude</th>\n",
       "      <th>Longitude</th>\n",
       "    </tr>\n",
       "  </thead>\n",
       "  <tbody>\n",
       "    <tr>\n",
       "      <th>5</th>\n",
       "      <td>1150000</td>\n",
       "      <td>Average</td>\n",
       "      <td>Apartment</td>\n",
       "      <td>0</td>\n",
       "      <td>1</td>\n",
       "      <td>Unfurnished</td>\n",
       "      <td>Ready</td>\n",
       "      <td>259</td>\n",
       "      <td>27</td>\n",
       "      <td>502</td>\n",
       "      <td>6</td>\n",
       "      <td>Dubai</td>\n",
       "      <td>25.189427</td>\n",
       "      <td>55.264819</td>\n",
       "    </tr>\n",
       "    <tr>\n",
       "      <th>6</th>\n",
       "      <td>2475000</td>\n",
       "      <td>Medium</td>\n",
       "      <td>Apartment</td>\n",
       "      <td>1</td>\n",
       "      <td>2</td>\n",
       "      <td>Unfurnished</td>\n",
       "      <td>Off-Plan</td>\n",
       "      <td>279</td>\n",
       "      <td>49</td>\n",
       "      <td>696</td>\n",
       "      <td>5</td>\n",
       "      <td>Dubai</td>\n",
       "      <td>25.078641</td>\n",
       "      <td>55.135252</td>\n",
       "    </tr>\n",
       "    <tr>\n",
       "      <th>7</th>\n",
       "      <td>1450000</td>\n",
       "      <td>Medium</td>\n",
       "      <td>Apartment</td>\n",
       "      <td>1</td>\n",
       "      <td>2</td>\n",
       "      <td>Unfurnished</td>\n",
       "      <td>Ready</td>\n",
       "      <td>0</td>\n",
       "      <td>75</td>\n",
       "      <td>810</td>\n",
       "      <td>0</td>\n",
       "      <td>Dubai</td>\n",
       "      <td>25.078641</td>\n",
       "      <td>55.135252</td>\n",
       "    </tr>\n",
       "    <tr>\n",
       "      <th>8</th>\n",
       "      <td>2400000</td>\n",
       "      <td>Medium</td>\n",
       "      <td>Apartment</td>\n",
       "      <td>1</td>\n",
       "      <td>2</td>\n",
       "      <td>Unfurnished</td>\n",
       "      <td>Ready</td>\n",
       "      <td>0</td>\n",
       "      <td>26</td>\n",
       "      <td>571</td>\n",
       "      <td>0</td>\n",
       "      <td>Dubai</td>\n",
       "      <td>25.189427</td>\n",
       "      <td>55.264819</td>\n",
       "    </tr>\n",
       "    <tr>\n",
       "      <th>12</th>\n",
       "      <td>2750000</td>\n",
       "      <td>Medium</td>\n",
       "      <td>Apartment</td>\n",
       "      <td>1</td>\n",
       "      <td>1</td>\n",
       "      <td>Furnished</td>\n",
       "      <td>Ready</td>\n",
       "      <td>138</td>\n",
       "      <td>9</td>\n",
       "      <td>298</td>\n",
       "      <td>2</td>\n",
       "      <td>Dubai</td>\n",
       "      <td>25.164759</td>\n",
       "      <td>55.218728</td>\n",
       "    </tr>\n",
       "  </tbody>\n",
       "</table>\n",
       "</div>"
      ],
      "text/plain": [
       "      price price_category       type  beds  baths   furnishing  \\\n",
       "5   1150000        Average  Apartment     0      1  Unfurnished   \n",
       "6   2475000         Medium  Apartment     1      2  Unfurnished   \n",
       "7   1450000         Medium  Apartment     1      2  Unfurnished   \n",
       "8   2400000         Medium  Apartment     1      2  Unfurnished   \n",
       "12  2750000         Medium  Apartment     1      1    Furnished   \n",
       "\n",
       "   completion_status  total_parking_spaces  total_floors  \\\n",
       "5              Ready                   259            27   \n",
       "6           Off-Plan                   279            49   \n",
       "7              Ready                     0            75   \n",
       "8              Ready                     0            26   \n",
       "12             Ready                   138             9   \n",
       "\n",
       "    total_building_area_sqft  elevators   city   Latitude  Longitude  \n",
       "5                        502          6  Dubai  25.189427  55.264819  \n",
       "6                        696          5  Dubai  25.078641  55.135252  \n",
       "7                        810          0  Dubai  25.078641  55.135252  \n",
       "8                        571          0  Dubai  25.189427  55.264819  \n",
       "12                       298          2  Dubai  25.164759  55.218728  "
      ]
     },
     "execution_count": 992,
     "metadata": {},
     "output_type": "execute_result"
    }
   ],
   "source": [
    "UAE_RealEstate.head()"
   ]
  },
  {
   "cell_type": "markdown",
   "id": "233ffec7",
   "metadata": {},
   "source": [
    "## Exploratory Analysis and Visualization¶"
   ]
  },
  {
   "cell_type": "markdown",
   "id": "732c627c",
   "metadata": {},
   "source": [
    "In this section, categorical variables are visualized using a pie chart, demonstrating that after the cleaning process, the presence of 'city' and 'status' becomes irrelevant. Additionally, a histogram of prices is plotted, revealing a trend where the availability of units for sale decreases as prices increase."
   ]
  },
  {
   "cell_type": "code",
   "execution_count": 993,
   "id": "eb2caff5",
   "metadata": {},
   "outputs": [
    {
     "data": {
      "text/plain": [
       "price_category\n",
       "Average    5786\n",
       "Medium     5017\n",
       "High       2638\n",
       "Name: count, dtype: int64"
      ]
     },
     "execution_count": 993,
     "metadata": {},
     "output_type": "execute_result"
    }
   ],
   "source": [
    "price_category_counts = UAE_RealEstate[\"price_category\"].value_counts()\n",
    "price_category_counts"
   ]
  },
  {
   "cell_type": "code",
   "execution_count": 994,
   "id": "cff1d347",
   "metadata": {},
   "outputs": [
    {
     "data": {
      "image/png": "[encoded data removed]",
      "text/plain": [
       "<Figure size 640x480 with 1 Axes>"
      ]
     },
     "metadata": {},
     "output_type": "display_data"
    }
   ],
   "source": [
    "plt.pie(price_category_counts, labels=price_category_counts.index, autopct='%1.0f%%')\n",
    "plt.show()"
   ]
  },
  {
   "cell_type": "code",
   "execution_count": 995,
   "id": "0343ea57",
   "metadata": {},
   "outputs": [
    {
     "data": {
      "text/plain": [
       "type\n",
       "Apartment               13298\n",
       "Hotel Apartment           106\n",
       "Penthouse                  35\n",
       "Residential Building        2\n",
       "Name: count, dtype: int64"
      ]
     },
     "execution_count": 995,
     "metadata": {},
     "output_type": "execute_result"
    }
   ],
   "source": [
    "type_counts = UAE_RealEstate[\"type\"].value_counts()\n",
    "type_counts"
   ]
  },
  {
   "cell_type": "code",
   "execution_count": 996,
   "id": "02e934dd",
   "metadata": {},
   "outputs": [
    {
     "data": {
      "image/png": "[encoded data removed]",
      "text/plain": [
       "<Figure size 640x480 with 1 Axes>"
      ]
     },
     "metadata": {},
     "output_type": "display_data"
    }
   ],
   "source": [
    "# Plot the pie chart with only colors\n",
    "patches, texts = plt.pie(type_counts, colors=plt.cm.tab20.colors, startangle=90)\n",
    "\n",
    "# Create a legend with labels\n",
    "plt.legend(patches, type_counts.index, loc=\"center left\", bbox_to_anchor=(1, 0.5))\n",
    "\n",
    "# Show the plot\n",
    "plt.show()"
   ]
  },
  {
   "cell_type": "code",
   "execution_count": 997,
   "id": "d9b3daca",
   "metadata": {},
   "outputs": [
    {
     "data": {
      "text/plain": [
       "furnishing\n",
       "Unfurnished    8939\n",
       "Furnished      4502\n",
       "Name: count, dtype: int64"
      ]
     },
     "execution_count": 997,
     "metadata": {},
     "output_type": "execute_result"
    }
   ],
   "source": [
    "furnishing_counts = UAE_RealEstate[\"furnishing\"].value_counts()\n",
    "furnishing_counts"
   ]
  },
  {
   "cell_type": "code",
   "execution_count": 998,
   "id": "08c1546e",
   "metadata": {},
   "outputs": [
    {
     "data": {
      "image/png": "[encoded data removed]",
      "text/plain": [
       "<Figure size 640x480 with 1 Axes>"
      ]
     },
     "metadata": {},
     "output_type": "display_data"
    }
   ],
   "source": [
    "plt.pie(furnishing_counts, labels=furnishing_counts.index, autopct='%1.0f%%')\n",
    "plt.show()"
   ]
  },
  {
   "cell_type": "code",
   "execution_count": 999,
   "id": "17334c37",
   "metadata": {},
   "outputs": [
    {
     "data": {
      "text/plain": [
       "completion_status\n",
       "Ready       11073\n",
       "Off-Plan     2368\n",
       "Name: count, dtype: int64"
      ]
     },
     "execution_count": 999,
     "metadata": {},
     "output_type": "execute_result"
    }
   ],
   "source": [
    "completion_status_counts = UAE_RealEstate[\"completion_status\"].value_counts()\n",
    "completion_status_counts"
   ]
  },
  {
   "cell_type": "code",
   "execution_count": 1000,
   "id": "6e92d7e2",
   "metadata": {},
   "outputs": [
    {
     "data": {
      "image/png": "[encoded data removed]",
      "text/plain": [
       "<Figure size 640x480 with 1 Axes>"
      ]
     },
     "metadata": {},
     "output_type": "display_data"
    }
   ],
   "source": [
    "plt.pie(completion_status_counts, labels=completion_status_counts.index, autopct='%1.0f%%')\n",
    "plt.show()"
   ]
  },
  {
   "cell_type": "code",
   "execution_count": 1001,
   "id": "b62c4fb5",
   "metadata": {},
   "outputs": [
    {
     "data": {
      "text/plain": [
       "city\n",
       "Dubai    13441\n",
       "Name: count, dtype: int64"
      ]
     },
     "execution_count": 1001,
     "metadata": {},
     "output_type": "execute_result"
    }
   ],
   "source": [
    "city_counts = UAE_RealEstate[\"city\"].value_counts()\n",
    "city_counts"
   ]
  },
  {
   "cell_type": "code",
   "execution_count": 1002,
   "id": "b75eab96",
   "metadata": {},
   "outputs": [
    {
     "data": {
      "image/png": "[encoded data removed]",
      "text/plain": [
       "<Figure size 640x480 with 1 Axes>"
      ]
     },
     "metadata": {},
     "output_type": "display_data"
    }
   ],
   "source": [
    "plt.pie(city_counts, labels=city_counts.index, autopct='%1.0f%%')\n",
    "plt.show()"
   ]
  },
  {
   "cell_type": "code",
   "execution_count": 1003,
   "id": "5ad36efa",
   "metadata": {},
   "outputs": [],
   "source": [
    "#Dropping Irrelevant Columns\n",
    "UAE_RealEstate = UAE_RealEstate.drop(['city'], axis=1)"
   ]
  },
  {
   "cell_type": "code",
   "execution_count": 1004,
   "id": "8e15c4e8",
   "metadata": {},
   "outputs": [
    {
     "data": {
      "image/png": "[encoded data removed]",
      "text/plain": [
       "<Figure size 640x480 with 1 Axes>"
      ]
     },
     "metadata": {},
     "output_type": "display_data"
    }
   ],
   "source": [
    "# Create the histogram\n",
    "plt.hist(UAE_RealEstate['price'], bins=20, color='skyblue', edgecolor='black')\n",
    "\n",
    "# Add labels and title\n",
    "plt.xlabel('Price (AED)')\n",
    "plt.ylabel('Frequency')\n",
    "plt.title('Distribution of Prices in UAE Real Estate')\n",
    "\n",
    "# Show the histogram\n",
    "plt.show()"
   ]
  },
  {
   "cell_type": "markdown",
   "id": "841ece5a",
   "metadata": {},
   "source": [
    "##  Feature Engineering"
   ]
  },
  {
   "cell_type": "markdown",
   "id": "8d0430a6",
   "metadata": {},
   "source": [
    "In this section, categorical variables are transformed into numerical variables using label encoding and mapping dictionaries, allowing for a categorical order. These techniques are applied to encode 'type', 'furnishing', 'completion status', and 'price category' variables."
   ]
  },
  {
   "cell_type": "code",
   "execution_count": 1005,
   "id": "a68f592f",
   "metadata": {},
   "outputs": [
    {
     "data": {
      "text/html": [
       "<div>\n",
       "<style scoped>\n",
       "    .dataframe tbody tr th:only-of-type {\n",
       "        vertical-align: middle;\n",
       "    }\n",
       "\n",
       "    .dataframe tbody tr th {\n",
       "        vertical-align: top;\n",
       "    }\n",
       "\n",
       "    .dataframe thead th {\n",
       "        text-align: right;\n",
       "    }\n",
       "</style>\n",
       "<table border=\"1\" class=\"dataframe\">\n",
       "  <thead>\n",
       "    <tr style=\"text-align: right;\">\n",
       "      <th></th>\n",
       "      <th>price</th>\n",
       "      <th>price_category</th>\n",
       "      <th>type</th>\n",
       "      <th>beds</th>\n",
       "      <th>baths</th>\n",
       "      <th>furnishing</th>\n",
       "      <th>completion_status</th>\n",
       "      <th>total_parking_spaces</th>\n",
       "      <th>total_floors</th>\n",
       "      <th>total_building_area_sqft</th>\n",
       "      <th>elevators</th>\n",
       "      <th>Latitude</th>\n",
       "      <th>Longitude</th>\n",
       "    </tr>\n",
       "  </thead>\n",
       "  <tbody>\n",
       "    <tr>\n",
       "      <th>5</th>\n",
       "      <td>1150000</td>\n",
       "      <td>Average</td>\n",
       "      <td>Apartment</td>\n",
       "      <td>0</td>\n",
       "      <td>1</td>\n",
       "      <td>Unfurnished</td>\n",
       "      <td>Ready</td>\n",
       "      <td>259</td>\n",
       "      <td>27</td>\n",
       "      <td>502</td>\n",
       "      <td>6</td>\n",
       "      <td>25.189427</td>\n",
       "      <td>55.264819</td>\n",
       "    </tr>\n",
       "    <tr>\n",
       "      <th>6</th>\n",
       "      <td>2475000</td>\n",
       "      <td>Medium</td>\n",
       "      <td>Apartment</td>\n",
       "      <td>1</td>\n",
       "      <td>2</td>\n",
       "      <td>Unfurnished</td>\n",
       "      <td>Off-Plan</td>\n",
       "      <td>279</td>\n",
       "      <td>49</td>\n",
       "      <td>696</td>\n",
       "      <td>5</td>\n",
       "      <td>25.078641</td>\n",
       "      <td>55.135252</td>\n",
       "    </tr>\n",
       "    <tr>\n",
       "      <th>7</th>\n",
       "      <td>1450000</td>\n",
       "      <td>Medium</td>\n",
       "      <td>Apartment</td>\n",
       "      <td>1</td>\n",
       "      <td>2</td>\n",
       "      <td>Unfurnished</td>\n",
       "      <td>Ready</td>\n",
       "      <td>0</td>\n",
       "      <td>75</td>\n",
       "      <td>810</td>\n",
       "      <td>0</td>\n",
       "      <td>25.078641</td>\n",
       "      <td>55.135252</td>\n",
       "    </tr>\n",
       "    <tr>\n",
       "      <th>8</th>\n",
       "      <td>2400000</td>\n",
       "      <td>Medium</td>\n",
       "      <td>Apartment</td>\n",
       "      <td>1</td>\n",
       "      <td>2</td>\n",
       "      <td>Unfurnished</td>\n",
       "      <td>Ready</td>\n",
       "      <td>0</td>\n",
       "      <td>26</td>\n",
       "      <td>571</td>\n",
       "      <td>0</td>\n",
       "      <td>25.189427</td>\n",
       "      <td>55.264819</td>\n",
       "    </tr>\n",
       "    <tr>\n",
       "      <th>12</th>\n",
       "      <td>2750000</td>\n",
       "      <td>Medium</td>\n",
       "      <td>Apartment</td>\n",
       "      <td>1</td>\n",
       "      <td>1</td>\n",
       "      <td>Furnished</td>\n",
       "      <td>Ready</td>\n",
       "      <td>138</td>\n",
       "      <td>9</td>\n",
       "      <td>298</td>\n",
       "      <td>2</td>\n",
       "      <td>25.164759</td>\n",
       "      <td>55.218728</td>\n",
       "    </tr>\n",
       "  </tbody>\n",
       "</table>\n",
       "</div>"
      ],
      "text/plain": [
       "      price price_category       type  beds  baths   furnishing  \\\n",
       "5   1150000        Average  Apartment     0      1  Unfurnished   \n",
       "6   2475000         Medium  Apartment     1      2  Unfurnished   \n",
       "7   1450000         Medium  Apartment     1      2  Unfurnished   \n",
       "8   2400000         Medium  Apartment     1      2  Unfurnished   \n",
       "12  2750000         Medium  Apartment     1      1    Furnished   \n",
       "\n",
       "   completion_status  total_parking_spaces  total_floors  \\\n",
       "5              Ready                   259            27   \n",
       "6           Off-Plan                   279            49   \n",
       "7              Ready                     0            75   \n",
       "8              Ready                     0            26   \n",
       "12             Ready                   138             9   \n",
       "\n",
       "    total_building_area_sqft  elevators   Latitude  Longitude  \n",
       "5                        502          6  25.189427  55.264819  \n",
       "6                        696          5  25.078641  55.135252  \n",
       "7                        810          0  25.078641  55.135252  \n",
       "8                        571          0  25.189427  55.264819  \n",
       "12                       298          2  25.164759  55.218728  "
      ]
     },
     "execution_count": 1005,
     "metadata": {},
     "output_type": "execute_result"
    }
   ],
   "source": [
    "UAE_RealEstate.head()"
   ]
  },
  {
   "cell_type": "code",
   "execution_count": 1006,
   "id": "97ed5062",
   "metadata": {},
   "outputs": [],
   "source": [
    "# Define the mapping dictionary to assign manually the codes for type\n",
    "type_mapping = {'Residential Building': 0, 'Residential Floor': 1,'Residential Plot': 2,'Hotel Apartment': 3,'Penthouse': 4,'Apartment': 5}\n",
    "UAE_RealEstate = pd.concat([UAE_RealEstate, UAE_RealEstate['type'].map(type_mapping).rename('type_encoded')], axis=1)\n",
    "\n",
    "# Define the mapping dictionary to assign manually the codes for price category\n",
    "type_mapping = {'Low': 0, 'Average': 1,'Medium': 2,'High': 3}\n",
    "UAE_RealEstate = pd.concat([UAE_RealEstate, UAE_RealEstate['price_category'].map(type_mapping).rename('price_cat_encoded')], axis=1)\n",
    "\n",
    "#Dropping Type\n",
    "UAE_RealEstate = UAE_RealEstate.drop(['type'], axis=1)\n",
    "#Dropping Type\n",
    "UAE_RealEstate = UAE_RealEstate.drop(['price_category'], axis=1)"
   ]
  },
  {
   "cell_type": "code",
   "execution_count": 1007,
   "id": "da645cff",
   "metadata": {},
   "outputs": [],
   "source": [
    "label_encoder = preprocessing.LabelEncoder()\n",
    "UAE_RealEstate.loc[:,'furnishing']= label_encoder.fit_transform(UAE_RealEstate['furnishing'])\n",
    "label_encoder = preprocessing.LabelEncoder()\n",
    "UAE_RealEstate.loc[:,'completion_status']= label_encoder.fit_transform(UAE_RealEstate['completion_status'])"
   ]
  },
  {
   "cell_type": "code",
   "execution_count": 1008,
   "id": "9c3f9718",
   "metadata": {},
   "outputs": [
    {
     "data": {
      "text/html": [
       "<div>\n",
       "<style scoped>\n",
       "    .dataframe tbody tr th:only-of-type {\n",
       "        vertical-align: middle;\n",
       "    }\n",
       "\n",
       "    .dataframe tbody tr th {\n",
       "        vertical-align: top;\n",
       "    }\n",
       "\n",
       "    .dataframe thead th {\n",
       "        text-align: right;\n",
       "    }\n",
       "</style>\n",
       "<table border=\"1\" class=\"dataframe\">\n",
       "  <thead>\n",
       "    <tr style=\"text-align: right;\">\n",
       "      <th></th>\n",
       "      <th>price</th>\n",
       "      <th>beds</th>\n",
       "      <th>baths</th>\n",
       "      <th>furnishing</th>\n",
       "      <th>completion_status</th>\n",
       "      <th>total_parking_spaces</th>\n",
       "      <th>total_floors</th>\n",
       "      <th>total_building_area_sqft</th>\n",
       "      <th>elevators</th>\n",
       "      <th>Latitude</th>\n",
       "      <th>Longitude</th>\n",
       "      <th>type_encoded</th>\n",
       "      <th>price_cat_encoded</th>\n",
       "    </tr>\n",
       "  </thead>\n",
       "  <tbody>\n",
       "    <tr>\n",
       "      <th>5</th>\n",
       "      <td>1150000</td>\n",
       "      <td>0</td>\n",
       "      <td>1</td>\n",
       "      <td>1</td>\n",
       "      <td>1</td>\n",
       "      <td>259</td>\n",
       "      <td>27</td>\n",
       "      <td>502</td>\n",
       "      <td>6</td>\n",
       "      <td>25.189427</td>\n",
       "      <td>55.264819</td>\n",
       "      <td>5</td>\n",
       "      <td>1</td>\n",
       "    </tr>\n",
       "    <tr>\n",
       "      <th>6</th>\n",
       "      <td>2475000</td>\n",
       "      <td>1</td>\n",
       "      <td>2</td>\n",
       "      <td>1</td>\n",
       "      <td>0</td>\n",
       "      <td>279</td>\n",
       "      <td>49</td>\n",
       "      <td>696</td>\n",
       "      <td>5</td>\n",
       "      <td>25.078641</td>\n",
       "      <td>55.135252</td>\n",
       "      <td>5</td>\n",
       "      <td>2</td>\n",
       "    </tr>\n",
       "    <tr>\n",
       "      <th>7</th>\n",
       "      <td>1450000</td>\n",
       "      <td>1</td>\n",
       "      <td>2</td>\n",
       "      <td>1</td>\n",
       "      <td>1</td>\n",
       "      <td>0</td>\n",
       "      <td>75</td>\n",
       "      <td>810</td>\n",
       "      <td>0</td>\n",
       "      <td>25.078641</td>\n",
       "      <td>55.135252</td>\n",
       "      <td>5</td>\n",
       "      <td>2</td>\n",
       "    </tr>\n",
       "    <tr>\n",
       "      <th>8</th>\n",
       "      <td>2400000</td>\n",
       "      <td>1</td>\n",
       "      <td>2</td>\n",
       "      <td>1</td>\n",
       "      <td>1</td>\n",
       "      <td>0</td>\n",
       "      <td>26</td>\n",
       "      <td>571</td>\n",
       "      <td>0</td>\n",
       "      <td>25.189427</td>\n",
       "      <td>55.264819</td>\n",
       "      <td>5</td>\n",
       "      <td>2</td>\n",
       "    </tr>\n",
       "    <tr>\n",
       "      <th>12</th>\n",
       "      <td>2750000</td>\n",
       "      <td>1</td>\n",
       "      <td>1</td>\n",
       "      <td>0</td>\n",
       "      <td>1</td>\n",
       "      <td>138</td>\n",
       "      <td>9</td>\n",
       "      <td>298</td>\n",
       "      <td>2</td>\n",
       "      <td>25.164759</td>\n",
       "      <td>55.218728</td>\n",
       "      <td>5</td>\n",
       "      <td>2</td>\n",
       "    </tr>\n",
       "  </tbody>\n",
       "</table>\n",
       "</div>"
      ],
      "text/plain": [
       "      price  beds  baths furnishing completion_status  total_parking_spaces  \\\n",
       "5   1150000     0      1          1                 1                   259   \n",
       "6   2475000     1      2          1                 0                   279   \n",
       "7   1450000     1      2          1                 1                     0   \n",
       "8   2400000     1      2          1                 1                     0   \n",
       "12  2750000     1      1          0                 1                   138   \n",
       "\n",
       "    total_floors  total_building_area_sqft  elevators   Latitude  Longitude  \\\n",
       "5             27                       502          6  25.189427  55.264819   \n",
       "6             49                       696          5  25.078641  55.135252   \n",
       "7             75                       810          0  25.078641  55.135252   \n",
       "8             26                       571          0  25.189427  55.264819   \n",
       "12             9                       298          2  25.164759  55.218728   \n",
       "\n",
       "    type_encoded  price_cat_encoded  \n",
       "5              5                  1  \n",
       "6              5                  2  \n",
       "7              5                  2  \n",
       "8              5                  2  \n",
       "12             5                  2  "
      ]
     },
     "execution_count": 1008,
     "metadata": {},
     "output_type": "execute_result"
    }
   ],
   "source": [
    "UAE_RealEstate.head()"
   ]
  },
  {
   "cell_type": "code",
   "execution_count": 1009,
   "id": "406a0fed",
   "metadata": {},
   "outputs": [
    {
     "data": {
      "text/html": [
       "<div>\n",
       "<style scoped>\n",
       "    .dataframe tbody tr th:only-of-type {\n",
       "        vertical-align: middle;\n",
       "    }\n",
       "\n",
       "    .dataframe tbody tr th {\n",
       "        vertical-align: top;\n",
       "    }\n",
       "\n",
       "    .dataframe thead th {\n",
       "        text-align: right;\n",
       "    }\n",
       "</style>\n",
       "<table border=\"1\" class=\"dataframe\">\n",
       "  <thead>\n",
       "    <tr style=\"text-align: right;\">\n",
       "      <th></th>\n",
       "      <th>price</th>\n",
       "      <th>beds</th>\n",
       "      <th>baths</th>\n",
       "      <th>furnishing</th>\n",
       "      <th>completion_status</th>\n",
       "      <th>total_parking_spaces</th>\n",
       "      <th>total_floors</th>\n",
       "      <th>total_building_area_sqft</th>\n",
       "      <th>elevators</th>\n",
       "      <th>Latitude</th>\n",
       "      <th>Longitude</th>\n",
       "      <th>type_encoded</th>\n",
       "      <th>price_cat_encoded</th>\n",
       "    </tr>\n",
       "  </thead>\n",
       "  <tbody>\n",
       "    <tr>\n",
       "      <th>price</th>\n",
       "      <td>1.000000</td>\n",
       "      <td>0.674137</td>\n",
       "      <td>0.614954</td>\n",
       "      <td>0.037520</td>\n",
       "      <td>-0.057655</td>\n",
       "      <td>0.019234</td>\n",
       "      <td>0.270018</td>\n",
       "      <td>0.260173</td>\n",
       "      <td>0.092158</td>\n",
       "      <td>0.349799</td>\n",
       "      <td>-0.131255</td>\n",
       "      <td>0.008828</td>\n",
       "      <td>0.884021</td>\n",
       "    </tr>\n",
       "    <tr>\n",
       "      <th>beds</th>\n",
       "      <td>0.674137</td>\n",
       "      <td>1.000000</td>\n",
       "      <td>0.840803</td>\n",
       "      <td>0.142673</td>\n",
       "      <td>0.064224</td>\n",
       "      <td>-0.068376</td>\n",
       "      <td>0.167733</td>\n",
       "      <td>0.084487</td>\n",
       "      <td>-0.063569</td>\n",
       "      <td>0.096290</td>\n",
       "      <td>-0.093774</td>\n",
       "      <td>0.052500</td>\n",
       "      <td>0.641039</td>\n",
       "    </tr>\n",
       "    <tr>\n",
       "      <th>baths</th>\n",
       "      <td>0.614954</td>\n",
       "      <td>0.840803</td>\n",
       "      <td>1.000000</td>\n",
       "      <td>0.091449</td>\n",
       "      <td>0.092264</td>\n",
       "      <td>-0.108701</td>\n",
       "      <td>0.150357</td>\n",
       "      <td>0.050071</td>\n",
       "      <td>-0.071310</td>\n",
       "      <td>0.051266</td>\n",
       "      <td>-0.133875</td>\n",
       "      <td>0.038614</td>\n",
       "      <td>0.570229</td>\n",
       "    </tr>\n",
       "    <tr>\n",
       "      <th>furnishing</th>\n",
       "      <td>0.037520</td>\n",
       "      <td>0.142673</td>\n",
       "      <td>0.091449</td>\n",
       "      <td>1.000000</td>\n",
       "      <td>-0.138676</td>\n",
       "      <td>-0.070235</td>\n",
       "      <td>-0.063309</td>\n",
       "      <td>-0.019217</td>\n",
       "      <td>-0.054245</td>\n",
       "      <td>-0.000776</td>\n",
       "      <td>0.067615</td>\n",
       "      <td>0.087030</td>\n",
       "      <td>0.048900</td>\n",
       "    </tr>\n",
       "    <tr>\n",
       "      <th>completion_status</th>\n",
       "      <td>-0.057655</td>\n",
       "      <td>0.064224</td>\n",
       "      <td>0.092264</td>\n",
       "      <td>-0.138676</td>\n",
       "      <td>1.000000</td>\n",
       "      <td>-0.186007</td>\n",
       "      <td>-0.084367</td>\n",
       "      <td>-0.281238</td>\n",
       "      <td>-0.273295</td>\n",
       "      <td>-0.133529</td>\n",
       "      <td>-0.081505</td>\n",
       "      <td>-0.028516</td>\n",
       "      <td>-0.073238</td>\n",
       "    </tr>\n",
       "    <tr>\n",
       "      <th>total_parking_spaces</th>\n",
       "      <td>0.019234</td>\n",
       "      <td>-0.068376</td>\n",
       "      <td>-0.108701</td>\n",
       "      <td>-0.070235</td>\n",
       "      <td>-0.186007</td>\n",
       "      <td>1.000000</td>\n",
       "      <td>0.220959</td>\n",
       "      <td>0.399826</td>\n",
       "      <td>0.591183</td>\n",
       "      <td>0.108828</td>\n",
       "      <td>0.226565</td>\n",
       "      <td>-0.024824</td>\n",
       "      <td>0.017899</td>\n",
       "    </tr>\n",
       "    <tr>\n",
       "      <th>total_floors</th>\n",
       "      <td>0.270018</td>\n",
       "      <td>0.167733</td>\n",
       "      <td>0.150357</td>\n",
       "      <td>-0.063309</td>\n",
       "      <td>-0.084367</td>\n",
       "      <td>0.220959</td>\n",
       "      <td>1.000000</td>\n",
       "      <td>0.695741</td>\n",
       "      <td>0.183325</td>\n",
       "      <td>0.172506</td>\n",
       "      <td>-0.187268</td>\n",
       "      <td>-0.033417</td>\n",
       "      <td>0.295471</td>\n",
       "    </tr>\n",
       "    <tr>\n",
       "      <th>total_building_area_sqft</th>\n",
       "      <td>0.260173</td>\n",
       "      <td>0.084487</td>\n",
       "      <td>0.050071</td>\n",
       "      <td>-0.019217</td>\n",
       "      <td>-0.281238</td>\n",
       "      <td>0.399826</td>\n",
       "      <td>0.695741</td>\n",
       "      <td>1.000000</td>\n",
       "      <td>0.456112</td>\n",
       "      <td>0.235009</td>\n",
       "      <td>-0.028840</td>\n",
       "      <td>-0.005340</td>\n",
       "      <td>0.274749</td>\n",
       "    </tr>\n",
       "    <tr>\n",
       "      <th>elevators</th>\n",
       "      <td>0.092158</td>\n",
       "      <td>-0.063569</td>\n",
       "      <td>-0.071310</td>\n",
       "      <td>-0.054245</td>\n",
       "      <td>-0.273295</td>\n",
       "      <td>0.591183</td>\n",
       "      <td>0.183325</td>\n",
       "      <td>0.456112</td>\n",
       "      <td>1.000000</td>\n",
       "      <td>0.173093</td>\n",
       "      <td>0.142401</td>\n",
       "      <td>-0.059891</td>\n",
       "      <td>0.096193</td>\n",
       "    </tr>\n",
       "    <tr>\n",
       "      <th>Latitude</th>\n",
       "      <td>0.349799</td>\n",
       "      <td>0.096290</td>\n",
       "      <td>0.051266</td>\n",
       "      <td>-0.000776</td>\n",
       "      <td>-0.133529</td>\n",
       "      <td>0.108828</td>\n",
       "      <td>0.172506</td>\n",
       "      <td>0.235009</td>\n",
       "      <td>0.173093</td>\n",
       "      <td>1.000000</td>\n",
       "      <td>0.559912</td>\n",
       "      <td>0.012987</td>\n",
       "      <td>0.395763</td>\n",
       "    </tr>\n",
       "    <tr>\n",
       "      <th>Longitude</th>\n",
       "      <td>-0.131255</td>\n",
       "      <td>-0.093774</td>\n",
       "      <td>-0.133875</td>\n",
       "      <td>0.067615</td>\n",
       "      <td>-0.081505</td>\n",
       "      <td>0.226565</td>\n",
       "      <td>-0.187268</td>\n",
       "      <td>-0.028840</td>\n",
       "      <td>0.142401</td>\n",
       "      <td>0.559912</td>\n",
       "      <td>1.000000</td>\n",
       "      <td>0.017281</td>\n",
       "      <td>-0.096857</td>\n",
       "    </tr>\n",
       "    <tr>\n",
       "      <th>type_encoded</th>\n",
       "      <td>0.008828</td>\n",
       "      <td>0.052500</td>\n",
       "      <td>0.038614</td>\n",
       "      <td>0.087030</td>\n",
       "      <td>-0.028516</td>\n",
       "      <td>-0.024824</td>\n",
       "      <td>-0.033417</td>\n",
       "      <td>-0.005340</td>\n",
       "      <td>-0.059891</td>\n",
       "      <td>0.012987</td>\n",
       "      <td>0.017281</td>\n",
       "      <td>1.000000</td>\n",
       "      <td>0.023271</td>\n",
       "    </tr>\n",
       "    <tr>\n",
       "      <th>price_cat_encoded</th>\n",
       "      <td>0.884021</td>\n",
       "      <td>0.641039</td>\n",
       "      <td>0.570229</td>\n",
       "      <td>0.048900</td>\n",
       "      <td>-0.073238</td>\n",
       "      <td>0.017899</td>\n",
       "      <td>0.295471</td>\n",
       "      <td>0.274749</td>\n",
       "      <td>0.096193</td>\n",
       "      <td>0.395763</td>\n",
       "      <td>-0.096857</td>\n",
       "      <td>0.023271</td>\n",
       "      <td>1.000000</td>\n",
       "    </tr>\n",
       "  </tbody>\n",
       "</table>\n",
       "</div>"
      ],
      "text/plain": [
       "                             price      beds     baths  furnishing  \\\n",
       "price                     1.000000  0.674137  0.614954    0.037520   \n",
       "beds                      0.674137  1.000000  0.840803    0.142673   \n",
       "baths                     0.614954  0.840803  1.000000    0.091449   \n",
       "furnishing                0.037520  0.142673  0.091449    1.000000   \n",
       "completion_status        -0.057655  0.064224  0.092264   -0.138676   \n",
       "total_parking_spaces      0.019234 -0.068376 -0.108701   -0.070235   \n",
       "total_floors              0.270018  0.167733  0.150357   -0.063309   \n",
       "total_building_area_sqft  0.260173  0.084487  0.050071   -0.019217   \n",
       "elevators                 0.092158 -0.063569 -0.071310   -0.054245   \n",
       "Latitude                  0.349799  0.096290  0.051266   -0.000776   \n",
       "Longitude                -0.131255 -0.093774 -0.133875    0.067615   \n",
       "type_encoded              0.008828  0.052500  0.038614    0.087030   \n",
       "price_cat_encoded         0.884021  0.641039  0.570229    0.048900   \n",
       "\n",
       "                          completion_status  total_parking_spaces  \\\n",
       "price                             -0.057655              0.019234   \n",
       "beds                               0.064224             -0.068376   \n",
       "baths                              0.092264             -0.108701   \n",
       "furnishing                        -0.138676             -0.070235   \n",
       "completion_status                  1.000000             -0.186007   \n",
       "total_parking_spaces              -0.186007              1.000000   \n",
       "total_floors                      -0.084367              0.220959   \n",
       "total_building_area_sqft          -0.281238              0.399826   \n",
       "elevators                         -0.273295              0.591183   \n",
       "Latitude                          -0.133529              0.108828   \n",
       "Longitude                         -0.081505              0.226565   \n",
       "type_encoded                      -0.028516             -0.024824   \n",
       "price_cat_encoded                 -0.073238              0.017899   \n",
       "\n",
       "                          total_floors  total_building_area_sqft  elevators  \\\n",
       "price                         0.270018                  0.260173   0.092158   \n",
       "beds                          0.167733                  0.084487  -0.063569   \n",
       "baths                         0.150357                  0.050071  -0.071310   \n",
       "furnishing                   -0.063309                 -0.019217  -0.054245   \n",
       "completion_status            -0.084367                 -0.281238  -0.273295   \n",
       "total_parking_spaces          0.220959                  0.399826   0.591183   \n",
       "total_floors                  1.000000                  0.695741   0.183325   \n",
       "total_building_area_sqft      0.695741                  1.000000   0.456112   \n",
       "elevators                     0.183325                  0.456112   1.000000   \n",
       "Latitude                      0.172506                  0.235009   0.173093   \n",
       "Longitude                    -0.187268                 -0.028840   0.142401   \n",
       "type_encoded                 -0.033417                 -0.005340  -0.059891   \n",
       "price_cat_encoded             0.295471                  0.274749   0.096193   \n",
       "\n",
       "                          Latitude  Longitude  type_encoded  price_cat_encoded  \n",
       "price                     0.349799  -0.131255      0.008828           0.884021  \n",
       "beds                      0.096290  -0.093774      0.052500           0.641039  \n",
       "baths                     0.051266  -0.133875      0.038614           0.570229  \n",
       "furnishing               -0.000776   0.067615      0.087030           0.048900  \n",
       "completion_status        -0.133529  -0.081505     -0.028516          -0.073238  \n",
       "total_parking_spaces      0.108828   0.226565     -0.024824           0.017899  \n",
       "total_floors              0.172506  -0.187268     -0.033417           0.295471  \n",
       "total_building_area_sqft  0.235009  -0.028840     -0.005340           0.274749  \n",
       "elevators                 0.173093   0.142401     -0.059891           0.096193  \n",
       "Latitude                  1.000000   0.559912      0.012987           0.395763  \n",
       "Longitude                 0.559912   1.000000      0.017281          -0.096857  \n",
       "type_encoded              0.012987   0.017281      1.000000           0.023271  \n",
       "price_cat_encoded         0.395763  -0.096857      0.023271           1.000000  "
      ]
     },
     "execution_count": 1009,
     "metadata": {},
     "output_type": "execute_result"
    },
    {
     "data": {
      "image/png": "[encoded data removed]",
      "text/plain": [
       "<Figure size 2000x1000 with 2 Axes>"
      ]
     },
     "metadata": {},
     "output_type": "display_data"
    }
   ],
   "source": [
    "#Creating a Heatmap\n",
    "plt.figure(figsize=(20,10))\n",
    "c= UAE_RealEstate.corr()\n",
    "sns.heatmap(c,cmap=\"BrBG\",annot=True)\n",
    "c"
   ]
  },
  {
   "cell_type": "markdown",
   "id": "6198de56",
   "metadata": {},
   "source": [
    "## Regression Model"
   ]
  },
  {
   "cell_type": "markdown",
   "id": "4cc5e320",
   "metadata": {},
   "source": [
    "In this section, the correlation between the columns and the price is analyzed. Features with higher correlations are selected for the model. The regression is performed using the LinearRegression model from scikit-learn. The coefficient of determination (𝑅2) is calculated to evaluate the model's performance. Additionally, the coefficients and intercept of the model are displayed."
   ]
  },
  {
   "cell_type": "code",
   "execution_count": 1010,
   "id": "1d22634b",
   "metadata": {},
   "outputs": [
    {
     "data": {
      "text/plain": [
       "price                       1.000000\n",
       "beds                        0.674137\n",
       "baths                       0.614954\n",
       "furnishing                  0.037520\n",
       "completion_status          -0.057655\n",
       "total_parking_spaces        0.019234\n",
       "total_floors                0.270018\n",
       "total_building_area_sqft    0.260173\n",
       "elevators                   0.092158\n",
       "Latitude                    0.349799\n",
       "Longitude                  -0.131255\n",
       "type_encoded                0.008828\n",
       "price_cat_encoded           0.884021\n",
       "Name: price, dtype: float64"
      ]
     },
     "execution_count": 1010,
     "metadata": {},
     "output_type": "execute_result"
    }
   ],
   "source": [
    "UAE_RealEstate.corr()['price']"
   ]
  },
  {
   "cell_type": "code",
   "execution_count": 1011,
   "id": "a67179c7",
   "metadata": {},
   "outputs": [
    {
     "data": {
      "text/html": [
       "<div>\n",
       "<style scoped>\n",
       "    .dataframe tbody tr th:only-of-type {\n",
       "        vertical-align: middle;\n",
       "    }\n",
       "\n",
       "    .dataframe tbody tr th {\n",
       "        vertical-align: top;\n",
       "    }\n",
       "\n",
       "    .dataframe thead th {\n",
       "        text-align: right;\n",
       "    }\n",
       "</style>\n",
       "<table border=\"1\" class=\"dataframe\">\n",
       "  <thead>\n",
       "    <tr style=\"text-align: right;\">\n",
       "      <th></th>\n",
       "      <th>price</th>\n",
       "      <th>beds</th>\n",
       "      <th>baths</th>\n",
       "      <th>completion_status</th>\n",
       "      <th>total_floors</th>\n",
       "      <th>total_building_area_sqft</th>\n",
       "      <th>Latitude</th>\n",
       "      <th>Longitude</th>\n",
       "      <th>type_encoded</th>\n",
       "      <th>price_cat_encoded</th>\n",
       "    </tr>\n",
       "  </thead>\n",
       "  <tbody>\n",
       "    <tr>\n",
       "      <th>5</th>\n",
       "      <td>1150000</td>\n",
       "      <td>0</td>\n",
       "      <td>1</td>\n",
       "      <td>1</td>\n",
       "      <td>27</td>\n",
       "      <td>502</td>\n",
       "      <td>25.189427</td>\n",
       "      <td>55.264819</td>\n",
       "      <td>5</td>\n",
       "      <td>1</td>\n",
       "    </tr>\n",
       "    <tr>\n",
       "      <th>6</th>\n",
       "      <td>2475000</td>\n",
       "      <td>1</td>\n",
       "      <td>2</td>\n",
       "      <td>0</td>\n",
       "      <td>49</td>\n",
       "      <td>696</td>\n",
       "      <td>25.078641</td>\n",
       "      <td>55.135252</td>\n",
       "      <td>5</td>\n",
       "      <td>2</td>\n",
       "    </tr>\n",
       "    <tr>\n",
       "      <th>7</th>\n",
       "      <td>1450000</td>\n",
       "      <td>1</td>\n",
       "      <td>2</td>\n",
       "      <td>1</td>\n",
       "      <td>75</td>\n",
       "      <td>810</td>\n",
       "      <td>25.078641</td>\n",
       "      <td>55.135252</td>\n",
       "      <td>5</td>\n",
       "      <td>2</td>\n",
       "    </tr>\n",
       "    <tr>\n",
       "      <th>8</th>\n",
       "      <td>2400000</td>\n",
       "      <td>1</td>\n",
       "      <td>2</td>\n",
       "      <td>1</td>\n",
       "      <td>26</td>\n",
       "      <td>571</td>\n",
       "      <td>25.189427</td>\n",
       "      <td>55.264819</td>\n",
       "      <td>5</td>\n",
       "      <td>2</td>\n",
       "    </tr>\n",
       "    <tr>\n",
       "      <th>12</th>\n",
       "      <td>2750000</td>\n",
       "      <td>1</td>\n",
       "      <td>1</td>\n",
       "      <td>1</td>\n",
       "      <td>9</td>\n",
       "      <td>298</td>\n",
       "      <td>25.164759</td>\n",
       "      <td>55.218728</td>\n",
       "      <td>5</td>\n",
       "      <td>2</td>\n",
       "    </tr>\n",
       "  </tbody>\n",
       "</table>\n",
       "</div>"
      ],
      "text/plain": [
       "      price  beds  baths completion_status  total_floors  \\\n",
       "5   1150000     0      1                 1            27   \n",
       "6   2475000     1      2                 0            49   \n",
       "7   1450000     1      2                 1            75   \n",
       "8   2400000     1      2                 1            26   \n",
       "12  2750000     1      1                 1             9   \n",
       "\n",
       "    total_building_area_sqft   Latitude  Longitude  type_encoded  \\\n",
       "5                        502  25.189427  55.264819             5   \n",
       "6                        696  25.078641  55.135252             5   \n",
       "7                        810  25.078641  55.135252             5   \n",
       "8                        571  25.189427  55.264819             5   \n",
       "12                       298  25.164759  55.218728             5   \n",
       "\n",
       "    price_cat_encoded  \n",
       "5                   1  \n",
       "6                   2  \n",
       "7                   2  \n",
       "8                   2  \n",
       "12                  2  "
      ]
     },
     "execution_count": 1011,
     "metadata": {},
     "output_type": "execute_result"
    }
   ],
   "source": [
    "data_linear = UAE_RealEstate.drop(['total_parking_spaces','furnishing','elevators'], axis=1)\n",
    "data_linear.head(5)"
   ]
  },
  {
   "cell_type": "code",
   "execution_count": 1012,
   "id": "873a11ba",
   "metadata": {},
   "outputs": [],
   "source": [
    "X = data_linear[['beds', 'baths', 'total_building_area_sqft', 'type_encoded','completion_status','total_floors','Latitude','price_cat_encoded','Longitude']]\n",
    "y = data_linear['price']"
   ]
  },
  {
   "cell_type": "code",
   "execution_count": 1013,
   "id": "7766b4d8",
   "metadata": {},
   "outputs": [],
   "source": [
    "from sklearn import linear_model"
   ]
  },
  {
   "cell_type": "code",
   "execution_count": 1014,
   "id": "00e2b0ae",
   "metadata": {},
   "outputs": [
    {
     "data": {
      "text/html": [
       "<style>#sk-container-id-17 {color: black;}#sk-container-id-17 pre{padding: 0;}#sk-container-id-17 div.sk-toggleable {background-color: white;}#sk-container-id-17 label.sk-toggleable__label {cursor: pointer;display: block;width: 100%;margin-bottom: 0;padding: 0.3em;box-sizing: border-box;text-align: center;}#sk-container-id-17 label.sk-toggleable__label-arrow:before {content: \"▸\";float: left;margin-right: 0.25em;color: #696969;}#sk-container-id-17 label.sk-toggleable__label-arrow:hover:before {color: black;}#sk-container-id-17 div.sk-estimator:hover label.sk-toggleable__label-arrow:before {color: black;}#sk-container-id-17 div.sk-toggleable__content {max-height: 0;max-width: 0;overflow: hidden;text-align: left;background-color: #f0f8ff;}#sk-container-id-17 div.sk-toggleable__content pre {margin: 0.2em;color: black;border-radius: 0.25em;background-color: #f0f8ff;}#sk-container-id-17 input.sk-toggleable__control:checked~div.sk-toggleable__content {max-height: 200px;max-width: 100%;overflow: auto;}#sk-container-id-17 input.sk-toggleable__control:checked~label.sk-toggleable__label-arrow:before {content: \"▾\";}#sk-container-id-17 div.sk-estimator input.sk-toggleable__control:checked~label.sk-toggleable__label {background-color: #d4ebff;}#sk-container-id-17 div.sk-label input.sk-toggleable__control:checked~label.sk-toggleable__label {background-color: #d4ebff;}#sk-container-id-17 input.sk-hidden--visually {border: 0;clip: rect(1px 1px 1px 1px);clip: rect(1px, 1px, 1px, 1px);height: 1px;margin: -1px;overflow: hidden;padding: 0;position: absolute;width: 1px;}#sk-container-id-17 div.sk-estimator {font-family: monospace;background-color: #f0f8ff;border: 1px dotted black;border-radius: 0.25em;box-sizing: border-box;margin-bottom: 0.5em;}#sk-container-id-17 div.sk-estimator:hover {background-color: #d4ebff;}#sk-container-id-17 div.sk-parallel-item::after {content: \"\";width: 100%;border-bottom: 1px solid gray;flex-grow: 1;}#sk-container-id-17 div.sk-label:hover label.sk-toggleable__label {background-color: #d4ebff;}#sk-container-id-17 div.sk-serial::before {content: \"\";position: absolute;border-left: 1px solid gray;box-sizing: border-box;top: 0;bottom: 0;left: 50%;z-index: 0;}#sk-container-id-17 div.sk-serial {display: flex;flex-direction: column;align-items: center;background-color: white;padding-right: 0.2em;padding-left: 0.2em;position: relative;}#sk-container-id-17 div.sk-item {position: relative;z-index: 1;}#sk-container-id-17 div.sk-parallel {display: flex;align-items: stretch;justify-content: center;background-color: white;position: relative;}#sk-container-id-17 div.sk-item::before, #sk-container-id-17 div.sk-parallel-item::before {content: \"\";position: absolute;border-left: 1px solid gray;box-sizing: border-box;top: 0;bottom: 0;left: 50%;z-index: -1;}#sk-container-id-17 div.sk-parallel-item {display: flex;flex-direction: column;z-index: 1;position: relative;background-color: white;}#sk-container-id-17 div.sk-parallel-item:first-child::after {align-self: flex-end;width: 50%;}#sk-container-id-17 div.sk-parallel-item:last-child::after {align-self: flex-start;width: 50%;}#sk-container-id-17 div.sk-parallel-item:only-child::after {width: 0;}#sk-container-id-17 div.sk-dashed-wrapped {border: 1px dashed gray;margin: 0 0.4em 0.5em 0.4em;box-sizing: border-box;padding-bottom: 0.4em;background-color: white;}#sk-container-id-17 div.sk-label label {font-family: monospace;font-weight: bold;display: inline-block;line-height: 1.2em;}#sk-container-id-17 div.sk-label-container {text-align: center;}#sk-container-id-17 div.sk-container {/* jupyter's `normalize.less` sets `[hidden] { display: none; }` but bootstrap.min.css set `[hidden] { display: none !important; }` so we also need the `!important` here to be able to override the default hidden behavior on the sphinx rendered scikit-learn.org. See: https://github.com/scikit-learn/scikit-learn/issues/21755 */display: inline-block !important;position: relative;}#sk-container-id-17 div.sk-text-repr-fallback {display: none;}</style><div id=\"sk-container-id-17\" class=\"sk-top-container\"><div class=\"sk-text-repr-fallback\"><pre>LinearRegression()</pre><b>In a Jupyter environment, please rerun this cell to show the HTML representation or trust the notebook. <br />On GitHub, the HTML representation is unable to render, please try loading this page with nbviewer.org.</b></div><div class=\"sk-container\" hidden><div class=\"sk-item\"><div class=\"sk-estimator sk-toggleable\"><input class=\"sk-toggleable__control sk-hidden--visually\" id=\"sk-estimator-id-17\" type=\"checkbox\" checked><label for=\"sk-estimator-id-17\" class=\"sk-toggleable__label sk-toggleable__label-arrow\">LinearRegression</label><div class=\"sk-toggleable__content\"><pre>LinearRegression()</pre></div></div></div></div></div>"
      ],
      "text/plain": [
       "LinearRegression()"
      ]
     },
     "execution_count": 1014,
     "metadata": {},
     "output_type": "execute_result"
    }
   ],
   "source": [
    "regr = linear_model.LinearRegression()\n",
    "regr.fit(X, y)"
   ]
  },
  {
   "cell_type": "code",
   "execution_count": 1015,
   "id": "119cbbf7",
   "metadata": {},
   "outputs": [
    {
     "name": "stdout",
     "output_type": "stream",
     "text": [
      "Mean Absolute Error (MAE): 401806.88\n",
      "Mean Squared Error (MSE): 350957855722.50\n",
      "Root Mean Squared Error (RMSE): 592416.96\n",
      "R-squared (R^2) Score: 0.81\n"
     ]
    }
   ],
   "source": [
    "from sklearn.metrics import mean_absolute_error, mean_squared_error, r2_score\n",
    "import numpy as np\n",
    "y_pred = regr.predict(X)\n",
    "\n",
    "mae = mean_absolute_error(y, y_pred)\n",
    "mse = mean_squared_error(y, y_pred)\n",
    "rmse = np.sqrt(mse)\n",
    "r2 = r2_score(y, y_pred)\n",
    "\n",
    "print(f\"Mean Absolute Error (MAE): {mae:.2f}\")\n",
    "print(f\"Mean Squared Error (MSE): {mse:.2f}\")\n",
    "print(f\"Root Mean Squared Error (RMSE): {rmse:.2f}\")\n",
    "print(f\"R-squared (R^2) Score: {r2:.2f}\")"
   ]
  },
  {
   "cell_type": "code",
   "execution_count": 1017,
   "id": "4172ae7d",
   "metadata": {},
   "outputs": [
    {
     "name": "stdout",
     "output_type": "stream",
     "text": [
      "[ 2.23967998e+05  1.27345494e+05  3.28891743e+02 -1.37408519e+05\n",
      " -2.45093649e+04 -4.46538933e+03  2.51394895e+06  1.23005466e+06\n",
      " -2.24529154e+06]\n"
     ]
    }
   ],
   "source": [
    "print(regr.coef_)"
   ]
  },
  {
   "cell_type": "code",
   "execution_count": 1018,
   "id": "bf1c1116",
   "metadata": {},
   "outputs": [
    {
     "name": "stdout",
     "output_type": "stream",
     "text": [
      "60783693.27710455\n"
     ]
    }
   ],
   "source": [
    "print(regr.intercept_)"
   ]
  },
  {
   "cell_type": "code",
   "execution_count": 1016,
   "id": "a5c58edb",
   "metadata": {},
   "outputs": [
    {
     "name": "stdout",
     "output_type": "stream",
     "text": [
      "<class 'pandas.core.frame.DataFrame'>\n",
      "Index: 13441 entries, 5 to 41380\n",
      "Data columns (total 13 columns):\n",
      " #   Column                    Non-Null Count  Dtype  \n",
      "---  ------                    --------------  -----  \n",
      " 0   price                     13441 non-null  int64  \n",
      " 1   beds                      13441 non-null  int64  \n",
      " 2   baths                     13441 non-null  int64  \n",
      " 3   furnishing                13441 non-null  object \n",
      " 4   completion_status         13441 non-null  object \n",
      " 5   total_parking_spaces      13441 non-null  int64  \n",
      " 6   total_floors              13441 non-null  int64  \n",
      " 7   total_building_area_sqft  13441 non-null  int64  \n",
      " 8   elevators                 13441 non-null  int64  \n",
      " 9   Latitude                  13441 non-null  float64\n",
      " 10  Longitude                 13441 non-null  float64\n",
      " 11  type_encoded              13441 non-null  int64  \n",
      " 12  price_cat_encoded         13441 non-null  int64  \n",
      "dtypes: float64(2), int64(9), object(2)\n",
      "memory usage: 1.4+ MB\n"
     ]
    }
   ],
   "source": [
    "UAE_RealEstate.info()"
   ]
  },
  {
   "cell_type": "code",
   "execution_count": 1019,
   "id": "eab63ed2",
   "metadata": {},
   "outputs": [
    {
     "data": {
      "text/plain": [
       "(13441, 13)"
      ]
     },
     "execution_count": 1019,
     "metadata": {},
     "output_type": "execute_result"
    }
   ],
   "source": [
    "UAE_RealEstate.shape"
   ]
  },
  {
   "cell_type": "markdown",
   "id": "c5c5697f",
   "metadata": {},
   "source": [
    "## Summary and Insights"
   ]
  },
  {
   "cell_type": "markdown",
   "id": "efdd5373",
   "metadata": {},
   "source": [
    "1. The dataset initially consisted of 41,381 rows and 22 columns, which were reduced to 13,441 rows and 13 columns after cleaning. Despite having a considerable number of entries, various inconsistencies were identified, such as a significant number of zero values in important columns like 'Baths' or 'Total Building Area'.\n",
    "\n",
    "2. The majority of units listed as 'Off Plan' in the completion status had a value of 0 in the year of completion, leading to the decision to exclude this data from the analysis. After cleaning, only Dubai remained in the analysis, highlighting inconsistencies in data collection from other cities.\n",
    "\n",
    "3. The final model has the following limitations:\n",
    "\n",
    "* It is functional for units with a minimum area of 40 sqft.\n",
    "* It is functional for units with prices between 350,000 AED and 7,000,000 AED. Higher prices were the outliers that most affected the model's performance.\n",
    "\n",
    "4. The final equation is expressed as follows:\n",
    "Price = 60783693.28 + 223968.00 (beds)+ 127345.49 (baths) + 328.89 (building_area_sqft) - 137408.52 (Type_encoded) - 24509.36 (completion Status) - 4465.39 (Total Floors)  + 1230054.66Price Cat Encoded - 2245291.54 (Longitude) + 2513948.95 (Latitude)"
   ]
  }
 ],
 "metadata": {
  "kernelspec": {
   "display_name": "Python 3 (ipykernel)",
   "language": "python",
   "name": "python3"
  },
  "language_info": {
   "codemirror_mode": {
    "name": "ipython",
    "version": 3
   },
   "file_extension": ".py",
   "mimetype": "text/x-python",
   "name": "python",
   "nbconvert_exporter": "python",
   "pygments_lexer": "ipython3",
   "version": "3.11.5"
  }
 },
 "nbformat": 4,
 "nbformat_minor": 5
}
